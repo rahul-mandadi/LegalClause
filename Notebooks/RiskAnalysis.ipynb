{
  "nbformat": 4,
  "nbformat_minor": 0,
  "metadata": {
    "colab": {
      "provenance": []
    },
    "kernelspec": {
      "name": "python3",
      "display_name": "Python 3"
    },
    "language_info": {
      "name": "python"
    }
  },
  "cells": [
    {
      "cell_type": "markdown",
      "source": [
        "# Risk Analysis with Gemini 2.0 Flash\n",
        "This notebook implements risk analysis for contract clauses using Gemini 2.0 Flash, replacing GPT-4 from the original Legal-Advice-chatbot project."
      ],
      "metadata": {
        "id": "SKySGWBec0HI"
      }
    },
    {
      "cell_type": "code",
      "execution_count": null,
      "metadata": {
        "id": "YFdrMX_ucyGl"
      },
      "outputs": [],
      "source": [
        "import google.generativeai as genai\n",
        "from datasets import load_dataset\n",
        "import pandas as pd\n",
        "\n",
        "# Set up Gemini API key\n",
        "GEMINI_API_KEY = 'your-api-key-here'  # Replace with your actual Gemini API key\n",
        "genai.configure(api_key=GEMINI_API_KEY)"
      ]
    },
    {
      "cell_type": "markdown",
      "source": [
        "Load Dataset"
      ],
      "metadata": {
        "id": "_GxKXgz7dxRV"
      }
    },
    {
      "cell_type": "code",
      "source": [
        "# Load dataset\n",
        "dataset = load_dataset(\"nguha/legalbench\", \"cuad_audit_rights\", trust_remote_code=True)\n",
        "df = pd.DataFrame(dataset['test'])\n",
        "df['cleaned_text'] = df['text'].apply(lambda x: x.strip().lower())"
      ],
      "metadata": {
        "id": "Ms6JIBOVdykJ"
      },
      "execution_count": null,
      "outputs": []
    },
    {
      "cell_type": "markdown",
      "source": [
        "Risk Analysis Function and Test"
      ],
      "metadata": {
        "id": "llKd0UFtd52S"
      }
    },
    {
      "cell_type": "code",
      "source": [
        "# Risk analysis function with Gemini 2.0 Flash\n",
        "def run_risk_analysis_gemini(clause):\n",
        "    try:\n",
        "        # Adjust model name based on actual Gemini API documentation\n",
        "        model = genai.GenerativeModel('gemini-1.5-flash')  # Placeholder; update to 'gemini-2.0-flash' if available\n",
        "        prompt = f\"You are a legal advisor. Identify any potential risks in this contract clause: '{clause}'\"\n",
        "        response = model.generate_content(prompt)\n",
        "        return response.text\n",
        "    except Exception as e:\n",
        "        return f\"Error analyzing clause: {str(e)}\"\n",
        "\n",
        "# Test on a sample clause\n",
        "sample_clause = df['cleaned_text'].iloc[0]\n",
        "risk_analysis = run_risk_analysis_gemini(sample_clause)\n",
        "print(f'Clause: {sample_clause}\\nRisk Analysis: {risk_analysis}')"
      ],
      "metadata": {
        "id": "6Rz2BeeDd7Vm"
      },
      "execution_count": null,
      "outputs": []
    }
  ]
}