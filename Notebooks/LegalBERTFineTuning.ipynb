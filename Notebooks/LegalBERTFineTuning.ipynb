{
  "nbformat": 4,
  "nbformat_minor": 0,
  "metadata": {
    "colab": {
      "provenance": []
    },
    "kernelspec": {
      "name": "python3",
      "display_name": "Python 3"
    },
    "language_info": {
      "name": "python"
    }
  },
  "cells": [
    {
      "cell_type": "markdown",
      "source": [
        "# Legal-BERT Fine-Tuning\n",
        "This notebook fine-tunes Legal-BERT for clause classification using the LegalBench CUAD dataset."
      ],
      "metadata": {
        "id": "Jhsv0bPRcHKJ"
      }
    },
    {
      "cell_type": "code",
      "execution_count": null,
      "metadata": {
        "id": "Xx2HQZPLbjGI"
      },
      "outputs": [],
      "source": [
        "from datasets import load_dataset\n",
        "from transformers import BertTokenizer, BertForSequenceClassification, Trainer, TrainingArguments\n",
        "from sklearn.model_selection import train_test_split\n",
        "from sklearn.metrics import accuracy_score, precision_score, recall_score, f1_score\n",
        "import torch\n",
        "import pandas as pd\n",
        "import numpy as np"
      ]
    },
    {
      "cell_type": "markdown",
      "source": [
        "Load and Preprocess Dataset"
      ],
      "metadata": {
        "id": "_4LwejuRcQjt"
      }
    },
    {
      "cell_type": "code",
      "source": [
        "# Load dataset\n",
        "dataset = load_dataset(\"nguha/legalbench\", \"cuad_audit_rights\", trust_remote_code=True)\n",
        "df = pd.DataFrame(dataset['test'])\n",
        "df['cleaned_text'] = df['text'].apply(lambda x: x.strip().lower())\n",
        "df['label'] = df['answer'].apply(lambda x: 1 if x.lower() == 'yes' else 0)\n",
        "\n",
        "# Split data\n",
        "train_data, test_data = train_test_split(df, test_size=0.2, stratify=df['label'], random_state=42)\n",
        "train_texts, val_texts, train_labels, val_labels = train_test_split(\n",
        "    train_data['cleaned_text'], train_data['label'], test_size=0.2, stratify=train_data['label'], random_state=42\n",
        ")"
      ],
      "metadata": {
        "id": "5nCylhsScNcg"
      },
      "execution_count": null,
      "outputs": []
    },
    {
      "cell_type": "markdown",
      "source": [
        "Initialize Tokenizer and Model"
      ],
      "metadata": {
        "id": "kgoT6BEycVMl"
      }
    },
    {
      "cell_type": "code",
      "source": [
        "# Initialize tokenizer and model\n",
        "tokenizer = BertTokenizer.from_pretrained('nlpaueb/legal-bert-base-uncased')\n",
        "model = BertForSequenceClassification.from_pretrained('nlpaueb/legal-bert-base-uncased', num_labels=2)\n",
        "device = torch.device('cuda' if torch.cuda.is_available() else 'cpu')\n",
        "model.to(device)\n",
        "\n",
        "# Tokenize data\n",
        "train_encodings = tokenizer(train_texts.tolist(), truncation=True, padding=True, max_length=512)\n",
        "val_encodings = tokenizer(val_texts.tolist(), truncation=True, padding=True, max_length=512)\n",
        "train_labels = torch.tensor(train_labels.tolist())\n",
        "val_labels = torch.tensor(val_labels.tolist())"
      ],
      "metadata": {
        "id": "ey6AwSBLcWrp"
      },
      "execution_count": null,
      "outputs": []
    },
    {
      "cell_type": "markdown",
      "source": [
        "Dataset Class and Instances"
      ],
      "metadata": {
        "id": "03VqkPiVcavi"
      }
    },
    {
      "cell_type": "code",
      "source": [
        "# Dataset class\n",
        "class LegalDataset(torch.utils.data.Dataset):\n",
        "    def __init__(self, encodings, labels):\n",
        "        self.encodings = encodings\n",
        "        self.labels = labels\n",
        "\n",
        "    def __getitem__(self, idx):\n",
        "        item = {key: torch.tensor(val[idx]) for key, val in self.encodings.items()}\n",
        "        item['labels'] = self.labels[idx]\n",
        "        return item\n",
        "\n",
        "    def __len__(self):\n",
        "        return len(self.labels)\n",
        "\n",
        "train_dataset = LegalDataset(train_encodings, train_labels)\n",
        "val_dataset = LegalDataset(val_encodings, val_labels)"
      ],
      "metadata": {
        "id": "8209XkS6ccgC"
      },
      "execution_count": null,
      "outputs": []
    },
    {
      "cell_type": "markdown",
      "source": [
        "Training and Evaluation"
      ],
      "metadata": {
        "id": "_QMoJ80CcfQF"
      }
    },
    {
      "cell_type": "code",
      "source": [
        "# Training arguments\n",
        "training_args = TrainingArguments(\n",
        "    output_dir='./results',\n",
        "    num_train_epochs=3,\n",
        "    per_device_train_batch_size=4,\n",
        "    per_device_eval_batch_size=4,\n",
        "    warmup_steps=500,\n",
        "    weight_decay=0.01,\n",
        "    logging_dir='./logs',\n",
        "    logging_steps=10,\n",
        "    evaluation_strategy='epoch'\n",
        ")\n",
        "\n",
        "trainer = Trainer(\n",
        "    model=model,\n",
        "    args=training_args,\n",
        "    train_dataset=train_dataset,\n",
        "    eval_dataset=val_dataset\n",
        ")\n",
        "\n",
        "# Train and evaluate\n",
        "trainer.train()\n",
        "predictions = trainer.predict(val_dataset)\n",
        "preds = predictions.predictions.argmax(-1)\n",
        "labels = predictions.label_ids\n",
        "print(f'Accuracy: {accuracy_score(labels, preds):.4f}, Precision: {precision_score(labels, preds):.4f}, '\n",
        "      f'Recall: {recall_score(labels, preds):.4f}, F1: {f1_score(labels, preds):.4f}')"
      ],
      "metadata": {
        "id": "inH85uD9cgzk"
      },
      "execution_count": null,
      "outputs": []
    },
    {
      "cell_type": "markdown",
      "source": [
        "Save Model"
      ],
      "metadata": {
        "id": "fwv6WuoPckj6"
      }
    },
    {
      "cell_type": "code",
      "source": [
        "# Save model\n",
        "model.save_pretrained('fine-tuned-legal-bert')\n",
        "tokenizer.save_pretrained('fine-tuned-legal-bert')"
      ],
      "metadata": {
        "id": "QTl3mqHjcl9x"
      },
      "execution_count": null,
      "outputs": []
    }
  ]
}